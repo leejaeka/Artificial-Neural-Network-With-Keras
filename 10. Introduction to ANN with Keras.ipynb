{
 "cells": [
  {
   "cell_type": "code",
   "execution_count": 2,
   "metadata": {},
   "outputs": [],
   "source": [
    "import tensorflow as tf\n",
    "from tensorflow import keras"
   ]
  },
  {
   "cell_type": "code",
   "execution_count": 3,
   "metadata": {},
   "outputs": [],
   "source": [
    "fashion_mnist = keras.datasets.fashion_mnist\n",
    "(X_train_full, y_train_full), (X_test, y_test) = fashion_mnist.load_data()\n"
   ]
  },
  {
   "cell_type": "code",
   "execution_count": 9,
   "metadata": {},
   "outputs": [
    {
     "data": {
      "text/plain": [
       "(60000, 28, 28)"
      ]
     },
     "execution_count": 9,
     "metadata": {},
     "output_type": "execute_result"
    }
   ],
   "source": [
    "X_train_full.shape\n"
   ]
  },
  {
   "cell_type": "code",
   "execution_count": 10,
   "metadata": {},
   "outputs": [
    {
     "data": {
      "text/plain": [
       "dtype('uint8')"
      ]
     },
     "execution_count": 10,
     "metadata": {},
     "output_type": "execute_result"
    }
   ],
   "source": [
    "X_train_full.dtype"
   ]
  },
  {
   "cell_type": "code",
   "execution_count": 14,
   "metadata": {},
   "outputs": [
    {
     "data": {
      "text/plain": [
       "array([[[0, 0, 0, ..., 0, 0, 0],\n",
       "        [0, 0, 0, ..., 0, 0, 0],\n",
       "        [0, 0, 0, ..., 0, 0, 0],\n",
       "        ...,\n",
       "        [0, 0, 0, ..., 0, 0, 0],\n",
       "        [0, 0, 0, ..., 0, 0, 0],\n",
       "        [0, 0, 0, ..., 0, 0, 0]],\n",
       "\n",
       "       [[0, 0, 0, ..., 0, 0, 0],\n",
       "        [0, 0, 0, ..., 0, 0, 0],\n",
       "        [0, 0, 0, ..., 0, 0, 0],\n",
       "        ...,\n",
       "        [0, 0, 0, ..., 0, 0, 0],\n",
       "        [0, 0, 0, ..., 0, 0, 0],\n",
       "        [0, 0, 0, ..., 0, 0, 0]],\n",
       "\n",
       "       [[0, 0, 0, ..., 0, 0, 0],\n",
       "        [0, 0, 0, ..., 0, 0, 0],\n",
       "        [0, 0, 0, ..., 0, 0, 0],\n",
       "        ...,\n",
       "        [0, 0, 0, ..., 0, 0, 0],\n",
       "        [0, 0, 0, ..., 0, 0, 0],\n",
       "        [0, 0, 0, ..., 0, 0, 0]]], dtype=uint8)"
      ]
     },
     "execution_count": 14,
     "metadata": {},
     "output_type": "execute_result"
    }
   ],
   "source": [
    "X_train_full[:3]"
   ]
  },
  {
   "cell_type": "code",
   "execution_count": 4,
   "metadata": {},
   "outputs": [
    {
     "data": {
      "text/plain": [
       "array([4, 0, 7, 9, 9], dtype=uint8)"
      ]
     },
     "execution_count": 4,
     "metadata": {},
     "output_type": "execute_result"
    }
   ],
   "source": [
    "X_valid, X_train = X_train_full[:5000]/255.0, X_train_full[5000:]/250.0\n",
    "y_valid, y_train = y_train_full[:5000], y_train_full[5000:]\n",
    "X_test = X_test/255.0\n",
    "\n",
    "y_train[:5]"
   ]
  },
  {
   "cell_type": "code",
   "execution_count": 5,
   "metadata": {},
   "outputs": [],
   "source": [
    "class_names = [\"T-shirt/top\", \"Trouser\", \"Pullover\", \"Dress\", \"Coat\", \"Sandal\", \"Shirt\", \"Sneaker\", \"Bag\", \"Ankle boot\"]"
   ]
  },
  {
   "cell_type": "markdown",
   "metadata": {},
   "source": [
    "Build a neural network"
   ]
  },
  {
   "cell_type": "code",
   "execution_count": 6,
   "metadata": {},
   "outputs": [
    {
     "name": "stdout",
     "output_type": "stream",
     "text": [
      "Model: \"sequential\"\n",
      "_________________________________________________________________\n",
      "Layer (type)                 Output Shape              Param #   \n",
      "=================================================================\n",
      "flatten (Flatten)            (None, 784)               0         \n",
      "_________________________________________________________________\n",
      "dense (Dense)                (None, 300)               235500    \n",
      "_________________________________________________________________\n",
      "dense_1 (Dense)              (None, 100)               30100     \n",
      "_________________________________________________________________\n",
      "dense_2 (Dense)              (None, 10)                1010      \n",
      "=================================================================\n",
      "Total params: 266,610\n",
      "Trainable params: 266,610\n",
      "Non-trainable params: 0\n",
      "_________________________________________________________________\n"
     ]
    }
   ],
   "source": [
    "model = keras.models.Sequential()\n",
    "model.add(keras.layers.Flatten(input_shape=[28,28]))\n",
    "model.add(keras.layers.Dense(300, activation=\"relu\"))\n",
    "model.add(keras.layers.Dense(100, activation=\"relu\"))\n",
    "model.add(keras.layers.Dense(10, activation=\"softmax\"))\n",
    "model.summary()\n",
    "\n"
   ]
  },
  {
   "cell_type": "code",
   "execution_count": 7,
   "metadata": {},
   "outputs": [
    {
     "data": {
      "text/plain": [
       "array([[-0.01638754,  0.00367582, -0.01459641, ...,  0.04535779,\n",
       "        -0.03260883,  0.0134571 ],\n",
       "       [ 0.01576514, -0.00238253,  0.00498734, ..., -0.07420452,\n",
       "        -0.06352367, -0.05727936],\n",
       "       [ 0.01356111, -0.07128028, -0.023754  , ..., -0.0620314 ,\n",
       "         0.06529616,  0.01336639],\n",
       "       ...,\n",
       "       [ 0.02523454,  0.06375659,  0.05394919, ...,  0.03653277,\n",
       "         0.02494219, -0.05073989],\n",
       "       [ 0.04577293,  0.00075749,  0.03723773, ...,  0.05567886,\n",
       "        -0.04699676, -0.0416745 ],\n",
       "       [-0.05454993,  0.03534725,  0.07080065, ..., -0.06095415,\n",
       "        -0.03741657, -0.03234646]], dtype=float32)"
      ]
     },
     "execution_count": 7,
     "metadata": {},
     "output_type": "execute_result"
    }
   ],
   "source": [
    "weights, biases = model.layers[1].get_weights()\n",
    "weights"
   ]
  },
  {
   "cell_type": "code",
   "execution_count": 8,
   "metadata": {},
   "outputs": [],
   "source": [
    "model.compile(loss=\"sparse_categorical_crossentropy\", optimizer=\"sgd\", metrics=[\"accuracy\"])"
   ]
  },
  {
   "cell_type": "code",
   "execution_count": 23,
   "metadata": {},
   "outputs": [
    {
     "name": "stdout",
     "output_type": "stream",
     "text": [
      "Epoch 1/30\n",
      "1719/1719 [==============================] - 3s 2ms/step - loss: 0.7240 - accuracy: 0.7583 - val_loss: 0.5413 - val_accuracy: 0.8180\n",
      "Epoch 2/30\n",
      "1719/1719 [==============================] - 3s 2ms/step - loss: 0.4883 - accuracy: 0.8296 - val_loss: 0.4539 - val_accuracy: 0.8432\n",
      "Epoch 3/30\n",
      "1719/1719 [==============================] - 2s 1ms/step - loss: 0.4396 - accuracy: 0.8465 - val_loss: 0.4078 - val_accuracy: 0.8642\n",
      "Epoch 4/30\n",
      "1719/1719 [==============================] - 2s 1ms/step - loss: 0.4144 - accuracy: 0.8558 - val_loss: 0.4019 - val_accuracy: 0.8644\n",
      "Epoch 5/30\n",
      "1719/1719 [==============================] - 2s 1ms/step - loss: 0.3933 - accuracy: 0.8622 - val_loss: 0.3837 - val_accuracy: 0.8676\n",
      "Epoch 6/30\n",
      "1719/1719 [==============================] - 2s 1ms/step - loss: 0.3786 - accuracy: 0.8669 - val_loss: 0.3861 - val_accuracy: 0.8642\n",
      "Epoch 7/30\n",
      "1719/1719 [==============================] - 2s 1ms/step - loss: 0.3651 - accuracy: 0.8712 - val_loss: 0.3949 - val_accuracy: 0.8576\n",
      "Epoch 8/30\n",
      "1719/1719 [==============================] - 2s 1ms/step - loss: 0.3536 - accuracy: 0.8748 - val_loss: 0.3531 - val_accuracy: 0.8788\n",
      "Epoch 9/30\n",
      "1719/1719 [==============================] - 2s 1ms/step - loss: 0.3431 - accuracy: 0.8784 - val_loss: 0.3471 - val_accuracy: 0.8754\n",
      "Epoch 10/30\n",
      "1719/1719 [==============================] - 2s 1ms/step - loss: 0.3348 - accuracy: 0.8811 - val_loss: 0.3467 - val_accuracy: 0.8774\n",
      "Epoch 11/30\n",
      "1719/1719 [==============================] - 2s 1ms/step - loss: 0.3254 - accuracy: 0.8841 - val_loss: 0.3414 - val_accuracy: 0.8786\n",
      "Epoch 12/30\n",
      "1719/1719 [==============================] - 2s 1ms/step - loss: 0.3180 - accuracy: 0.8863 - val_loss: 0.3277 - val_accuracy: 0.8852\n",
      "Epoch 13/30\n",
      "1719/1719 [==============================] - 2s 1ms/step - loss: 0.3109 - accuracy: 0.8886 - val_loss: 0.3403 - val_accuracy: 0.8746\n",
      "Epoch 14/30\n",
      "1719/1719 [==============================] - 2s 1ms/step - loss: 0.3036 - accuracy: 0.8910 - val_loss: 0.3245 - val_accuracy: 0.8806\n",
      "Epoch 15/30\n",
      "1719/1719 [==============================] - 3s 2ms/step - loss: 0.2971 - accuracy: 0.8936 - val_loss: 0.3173 - val_accuracy: 0.8882\n",
      "Epoch 16/30\n",
      "1719/1719 [==============================] - 2s 1ms/step - loss: 0.2908 - accuracy: 0.8951 - val_loss: 0.3262 - val_accuracy: 0.8804\n",
      "Epoch 17/30\n",
      "1719/1719 [==============================] - 2s 1ms/step - loss: 0.2853 - accuracy: 0.8972 - val_loss: 0.3237 - val_accuracy: 0.8872\n",
      "Epoch 18/30\n",
      "1719/1719 [==============================] - 2s 1ms/step - loss: 0.2787 - accuracy: 0.8999 - val_loss: 0.3280 - val_accuracy: 0.8806\n",
      "Epoch 19/30\n",
      "1719/1719 [==============================] - 2s 1ms/step - loss: 0.2737 - accuracy: 0.9009 - val_loss: 0.3093 - val_accuracy: 0.8888\n",
      "Epoch 20/30\n",
      "1719/1719 [==============================] - 2s 1ms/step - loss: 0.2699 - accuracy: 0.9030 - val_loss: 0.3154 - val_accuracy: 0.8850\n",
      "Epoch 21/30\n",
      "1719/1719 [==============================] - 2s 1ms/step - loss: 0.2634 - accuracy: 0.9052 - val_loss: 0.3137 - val_accuracy: 0.8856\n",
      "Epoch 22/30\n",
      "1719/1719 [==============================] - 2s 1ms/step - loss: 0.2590 - accuracy: 0.9066 - val_loss: 0.3113 - val_accuracy: 0.8880\n",
      "Epoch 23/30\n",
      "1719/1719 [==============================] - 2s 1ms/step - loss: 0.2552 - accuracy: 0.9077 - val_loss: 0.3154 - val_accuracy: 0.8832\n",
      "Epoch 24/30\n",
      "1719/1719 [==============================] - 2s 1ms/step - loss: 0.2505 - accuracy: 0.9092 - val_loss: 0.2992 - val_accuracy: 0.8934\n",
      "Epoch 25/30\n",
      "1719/1719 [==============================] - 2s 1ms/step - loss: 0.2452 - accuracy: 0.9118 - val_loss: 0.2998 - val_accuracy: 0.8904\n",
      "Epoch 26/30\n",
      "1719/1719 [==============================] - 2s 1ms/step - loss: 0.2417 - accuracy: 0.9131 - val_loss: 0.3018 - val_accuracy: 0.8922\n",
      "Epoch 27/30\n",
      "1719/1719 [==============================] - 2s 1ms/step - loss: 0.2372 - accuracy: 0.9141 - val_loss: 0.3053 - val_accuracy: 0.8922\n",
      "Epoch 28/30\n",
      "1719/1719 [==============================] - 2s 1ms/step - loss: 0.2328 - accuracy: 0.9159 - val_loss: 0.3013 - val_accuracy: 0.8916\n",
      "Epoch 29/30\n",
      "1719/1719 [==============================] - 2s 1ms/step - loss: 0.2295 - accuracy: 0.9172 - val_loss: 0.3134 - val_accuracy: 0.8828\n",
      "Epoch 30/30\n",
      "1719/1719 [==============================] - 2s 1ms/step - loss: 0.2259 - accuracy: 0.9192 - val_loss: 0.3039 - val_accuracy: 0.8868\n"
     ]
    }
   ],
   "source": [
    "history = model.fit(X_train,y_train,epochs=30, validation_data=(X_valid,y_valid))"
   ]
  },
  {
   "cell_type": "code",
   "execution_count": 16,
   "metadata": {},
   "outputs": [
    {
     "data": {
      "text/plain": [
       "<function matplotlib.pyplot.show(*args, **kw)>"
      ]
     },
     "execution_count": 16,
     "metadata": {},
     "output_type": "execute_result"
    },
    {
     "data": {
      "image/png": "[encoded data removed]",
      "text/plain": [
       "<Figure size 576x360 with 1 Axes>"
      ]
     },
     "metadata": {
      "needs_background": "light"
     },
     "output_type": "display_data"
    }
   ],
   "source": [
    "import pandas as pd\n",
    "import matplotlib.pyplot as plt\n",
    "\n",
    "pd.DataFrame(history.history).plot(figsize=(8,5))\n",
    "plt.grid(True)\n",
    "plt.gca().set_ylim(0,1)\n",
    "plt.show"
   ]
  },
  {
   "cell_type": "code",
   "execution_count": 9,
   "metadata": {},
   "outputs": [
    {
     "name": "stdout",
     "output_type": "stream",
     "text": [
      "Epoch 1/40\n",
      "1719/1719 [==============================] - 3s 2ms/step - loss: 0.7319 - accuracy: 0.7571 - val_loss: 0.5310 - val_accuracy: 0.8224\n",
      "Epoch 2/40\n",
      "1719/1719 [==============================] - 3s 1ms/step - loss: 0.4932 - accuracy: 0.8284 - val_loss: 0.4455 - val_accuracy: 0.8522\n",
      "Epoch 3/40\n",
      "1719/1719 [==============================] - 2s 1ms/step - loss: 0.4463 - accuracy: 0.8438 - val_loss: 0.4401 - val_accuracy: 0.8506\n",
      "Epoch 4/40\n",
      "1719/1719 [==============================] - 3s 1ms/step - loss: 0.4176 - accuracy: 0.8536 - val_loss: 0.4084 - val_accuracy: 0.8568\n",
      "Epoch 5/40\n",
      "1719/1719 [==============================] - 3s 2ms/step - loss: 0.3976 - accuracy: 0.8607 - val_loss: 0.3893 - val_accuracy: 0.8642\n",
      "Epoch 6/40\n",
      "1719/1719 [==============================] - 3s 1ms/step - loss: 0.3805 - accuracy: 0.8655 - val_loss: 0.3665 - val_accuracy: 0.8732\n",
      "Epoch 7/40\n",
      "1719/1719 [==============================] - 2s 1ms/step - loss: 0.3684 - accuracy: 0.8696 - val_loss: 0.3705 - val_accuracy: 0.8728\n",
      "Epoch 8/40\n",
      "1719/1719 [==============================] - 2s 1ms/step - loss: 0.3561 - accuracy: 0.8740 - val_loss: 0.3546 - val_accuracy: 0.8716\n",
      "Epoch 9/40\n",
      "1719/1719 [==============================] - 3s 1ms/step - loss: 0.3454 - accuracy: 0.8770 - val_loss: 0.3505 - val_accuracy: 0.8740\n",
      "Epoch 10/40\n",
      "1719/1719 [==============================] - 2s 1ms/step - loss: 0.3361 - accuracy: 0.8808 - val_loss: 0.3395 - val_accuracy: 0.8812\n",
      "Epoch 11/40\n",
      "1719/1719 [==============================] - 3s 1ms/step - loss: 0.3279 - accuracy: 0.8829 - val_loss: 0.3766 - val_accuracy: 0.8624\n",
      "Epoch 12/40\n",
      "1719/1719 [==============================] - 2s 1ms/step - loss: 0.3199 - accuracy: 0.8862 - val_loss: 0.3386 - val_accuracy: 0.8770\n",
      "Epoch 13/40\n",
      "1719/1719 [==============================] - 3s 1ms/step - loss: 0.3125 - accuracy: 0.8877 - val_loss: 0.3312 - val_accuracy: 0.8806\n",
      "Epoch 14/40\n",
      "1719/1719 [==============================] - 3s 2ms/step - loss: 0.3053 - accuracy: 0.8904 - val_loss: 0.3316 - val_accuracy: 0.8792\n",
      "Epoch 15/40\n",
      "1719/1719 [==============================] - 2s 1ms/step - loss: 0.2993 - accuracy: 0.8924 - val_loss: 0.3247 - val_accuracy: 0.8820\n",
      "Epoch 16/40\n",
      "1719/1719 [==============================] - 2s 1ms/step - loss: 0.2930 - accuracy: 0.8949 - val_loss: 0.3200 - val_accuracy: 0.8832\n",
      "Epoch 17/40\n",
      "1719/1719 [==============================] - 2s 1ms/step - loss: 0.2869 - accuracy: 0.8965 - val_loss: 0.3266 - val_accuracy: 0.8780\n",
      "Epoch 18/40\n",
      "1719/1719 [==============================] - 2s 1ms/step - loss: 0.2816 - accuracy: 0.8990 - val_loss: 0.3281 - val_accuracy: 0.8762\n",
      "Epoch 19/40\n",
      "1719/1719 [==============================] - 2s 1ms/step - loss: 0.2761 - accuracy: 0.9009 - val_loss: 0.3116 - val_accuracy: 0.8860\n",
      "Epoch 20/40\n",
      "1719/1719 [==============================] - 2s 1ms/step - loss: 0.2709 - accuracy: 0.9026 - val_loss: 0.3071 - val_accuracy: 0.8930\n",
      "Epoch 21/40\n",
      "1719/1719 [==============================] - 2s 1ms/step - loss: 0.2668 - accuracy: 0.9041 - val_loss: 0.3083 - val_accuracy: 0.8850\n",
      "Epoch 22/40\n",
      "1719/1719 [==============================] - 3s 2ms/step - loss: 0.2620 - accuracy: 0.9054 - val_loss: 0.3094 - val_accuracy: 0.8858\n",
      "Epoch 23/40\n",
      "1719/1719 [==============================] - 3s 2ms/step - loss: 0.2572 - accuracy: 0.9070 - val_loss: 0.3064 - val_accuracy: 0.8868\n",
      "Epoch 24/40\n",
      "1719/1719 [==============================] - 2s 1ms/step - loss: 0.2530 - accuracy: 0.9085 - val_loss: 0.3118 - val_accuracy: 0.8864\n",
      "Epoch 25/40\n",
      "1719/1719 [==============================] - 2s 1ms/step - loss: 0.2484 - accuracy: 0.9108 - val_loss: 0.3059 - val_accuracy: 0.8890\n",
      "Epoch 26/40\n",
      "1719/1719 [==============================] - 2s 1ms/step - loss: 0.2438 - accuracy: 0.9118 - val_loss: 0.3117 - val_accuracy: 0.8852\n",
      "Epoch 27/40\n",
      "1719/1719 [==============================] - 2s 1ms/step - loss: 0.2402 - accuracy: 0.9141 - val_loss: 0.3088 - val_accuracy: 0.8864\n",
      "Epoch 28/40\n",
      "1719/1719 [==============================] - 2s 1ms/step - loss: 0.2368 - accuracy: 0.9144 - val_loss: 0.3087 - val_accuracy: 0.8868\n",
      "Epoch 29/40\n",
      "1719/1719 [==============================] - 2s 1ms/step - loss: 0.2309 - accuracy: 0.9171 - val_loss: 0.3158 - val_accuracy: 0.8876\n",
      "Epoch 30/40\n",
      "1719/1719 [==============================] - 2s 1ms/step - loss: 0.2291 - accuracy: 0.9166 - val_loss: 0.2976 - val_accuracy: 0.8918\n",
      "Epoch 31/40\n",
      "1719/1719 [==============================] - 2s 1ms/step - loss: 0.2250 - accuracy: 0.9195 - val_loss: 0.3014 - val_accuracy: 0.8902\n",
      "Epoch 32/40\n",
      "1719/1719 [==============================] - 2s 1ms/step - loss: 0.2219 - accuracy: 0.9204 - val_loss: 0.3080 - val_accuracy: 0.8880\n",
      "Epoch 33/40\n",
      "1719/1719 [==============================] - 3s 1ms/step - loss: 0.2182 - accuracy: 0.9209 - val_loss: 0.2936 - val_accuracy: 0.8938\n",
      "Epoch 34/40\n",
      "1719/1719 [==============================] - 2s 1ms/step - loss: 0.2154 - accuracy: 0.9223 - val_loss: 0.2934 - val_accuracy: 0.8928\n",
      "Epoch 35/40\n",
      "1719/1719 [==============================] - 2s 1ms/step - loss: 0.2112 - accuracy: 0.9235 - val_loss: 0.3031 - val_accuracy: 0.8914\n",
      "Epoch 36/40\n",
      "1719/1719 [==============================] - 2s 1ms/step - loss: 0.2085 - accuracy: 0.9248 - val_loss: 0.3035 - val_accuracy: 0.8878\n",
      "Epoch 37/40\n",
      "1719/1719 [==============================] - 2s 1ms/step - loss: 0.2036 - accuracy: 0.9268 - val_loss: 0.2974 - val_accuracy: 0.8882\n",
      "Epoch 38/40\n",
      "1719/1719 [==============================] - 2s 1ms/step - loss: 0.2024 - accuracy: 0.9275 - val_loss: 0.2973 - val_accuracy: 0.8886\n",
      "Epoch 39/40\n",
      "1719/1719 [==============================] - 3s 1ms/step - loss: 0.1982 - accuracy: 0.9294 - val_loss: 0.2894 - val_accuracy: 0.8946\n",
      "Epoch 40/40\n",
      "1719/1719 [==============================] - 2s 1ms/step - loss: 0.1954 - accuracy: 0.9300 - val_loss: 0.3089 - val_accuracy: 0.8938\n"
     ]
    }
   ],
   "source": [
    "history = model.fit(X_train,y_train,epochs=40, validation_data=(X_valid,y_valid))"
   ]
  },
  {
   "cell_type": "code",
   "execution_count": 10,
   "metadata": {},
   "outputs": [
    {
     "name": "stdout",
     "output_type": "stream",
     "text": [
      "313/313 [==============================] - 0s 1ms/step - loss: 0.3369 - accuracy: 0.8803\n"
     ]
    },
    {
     "data": {
      "text/plain": [
       "[0.3368668556213379, 0.880299985408783]"
      ]
     },
     "execution_count": 10,
     "metadata": {},
     "output_type": "execute_result"
    }
   ],
   "source": [
    "model.evaluate(X_test,y_test)"
   ]
  },
  {
   "cell_type": "code",
   "execution_count": 11,
   "metadata": {},
   "outputs": [
    {
     "data": {
      "text/plain": [
       "array([[0.  , 0.  , 0.  , 0.  , 0.  , 0.01, 0.  , 0.02, 0.  , 0.97],\n",
       "       [0.  , 0.  , 0.99, 0.  , 0.01, 0.  , 0.  , 0.  , 0.  , 0.  ],\n",
       "       [0.  , 1.  , 0.  , 0.  , 0.  , 0.  , 0.  , 0.  , 0.  , 0.  ]],\n",
       "      dtype=float32)"
      ]
     },
     "execution_count": 11,
     "metadata": {},
     "output_type": "execute_result"
    }
   ],
   "source": [
    "X_new = X_test[:3]\n",
    "y_proba = model.predict(X_new)\n",
    "y_proba.round(2)"
   ]
  },
  {
   "cell_type": "code",
   "execution_count": 17,
   "metadata": {},
   "outputs": [
    {
     "data": {
      "text/plain": [
       "array(['Ankle boot', 'Pullover', 'Trouser'], dtype='<U11')"
      ]
     },
     "execution_count": 17,
     "metadata": {},
     "output_type": "execute_result"
    }
   ],
   "source": [
    "import numpy as np\n",
    "y_pred = model.predict_classes(X_new)\n",
    "np.array(class_names)[y_pred]"
   ]
  },
  {
   "cell_type": "markdown",
   "metadata": {},
   "source": [
    "## Building Regression MLP"
   ]
  },
  {
   "cell_type": "code",
   "execution_count": null,
   "metadata": {},
   "outputs": [],
   "source": [
    "from sklearn.datasets import fetch_california_housing\n",
    "from sklearn.model_selection import train_test_split\n",
    "from sklearn.preprocessing import StandardScaler"
   ]
  },
  {
   "cell_type": "code",
   "execution_count": 18,
   "metadata": {},
   "outputs": [],
   "source": [
    "from sklearn.datasets import fetch_california_housing\n",
    "from sklearn.model_selection import train_test_split\n",
    "from sklearn.preprocessing import StandardScaler\n",
    "\n",
    "housing = fetch_california_housing()\n",
    "\n",
    "X_train_full, X_test, y_train_full, y_test = train_test_split(housing.data, housing.target, random_state=42)\n",
    "X_train, X_valid, y_train, y_valid = train_test_split(X_train_full, y_train_full, random_state=42)\n",
    "\n",
    "scaler = StandardScaler()\n",
    "X_train = scaler.fit_transform(X_train)\n",
    "X_valid = scaler.transform(X_valid)\n",
    "X_test = scaler.transform(X_test)"
   ]
  },
  {
   "cell_type": "code",
   "execution_count": 19,
   "metadata": {},
   "outputs": [
    {
     "name": "stdout",
     "output_type": "stream",
     "text": [
      "Epoch 1/20\n",
      "363/363 [==============================] - 0s 1ms/step - loss: 1.6419 - val_loss: 0.8560\n",
      "Epoch 2/20\n",
      "363/363 [==============================] - 0s 823us/step - loss: 0.7047 - val_loss: 0.6531\n",
      "Epoch 3/20\n",
      "363/363 [==============================] - 0s 810us/step - loss: 0.6345 - val_loss: 0.6099\n",
      "Epoch 4/20\n",
      "363/363 [==============================] - 0s 841us/step - loss: 0.5977 - val_loss: 0.5658\n",
      "Epoch 5/20\n",
      "363/363 [==============================] - 0s 770us/step - loss: 0.5706 - val_loss: 0.5355\n",
      "Epoch 6/20\n",
      "363/363 [==============================] - 0s 817us/step - loss: 0.5472 - val_loss: 0.5173\n",
      "Epoch 7/20\n",
      "363/363 [==============================] - 0s 850us/step - loss: 0.5288 - val_loss: 0.5081\n",
      "Epoch 8/20\n",
      "363/363 [==============================] - 0s 807us/step - loss: 0.5130 - val_loss: 0.4799\n",
      "Epoch 9/20\n",
      "363/363 [==============================] - 0s 848us/step - loss: 0.4992 - val_loss: 0.4690\n",
      "Epoch 10/20\n",
      "363/363 [==============================] - 0s 817us/step - loss: 0.4875 - val_loss: 0.4656\n",
      "Epoch 11/20\n",
      "363/363 [==============================] - 0s 811us/step - loss: 0.4777 - val_loss: 0.4482\n",
      "Epoch 12/20\n",
      "363/363 [==============================] - 0s 803us/step - loss: 0.4688 - val_loss: 0.4479\n",
      "Epoch 13/20\n",
      "363/363 [==============================] - 0s 826us/step - loss: 0.4615 - val_loss: 0.4296\n",
      "Epoch 14/20\n",
      "363/363 [==============================] - 0s 820us/step - loss: 0.4547 - val_loss: 0.4233\n",
      "Epoch 15/20\n",
      "363/363 [==============================] - 0s 823us/step - loss: 0.4488 - val_loss: 0.4176\n",
      "Epoch 16/20\n",
      "363/363 [==============================] - 0s 824us/step - loss: 0.4435 - val_loss: 0.4123\n",
      "Epoch 17/20\n",
      "363/363 [==============================] - 0s 832us/step - loss: 0.4389 - val_loss: 0.4071\n",
      "Epoch 18/20\n",
      "363/363 [==============================] - 0s 739us/step - loss: 0.4347 - val_loss: 0.4037\n",
      "Epoch 19/20\n",
      "363/363 [==============================] - 0s 819us/step - loss: 0.4306 - val_loss: 0.4000\n",
      "Epoch 20/20\n",
      "363/363 [==============================] - 0s 831us/step - loss: 0.4273 - val_loss: 0.3969\n",
      "  1/162 [..............................] - ETA: 0s - loss: 0.4649WARNING:tensorflow:Callbacks method `on_test_batch_begin` is slow compared to the batch time (batch time: 0.0000s vs `on_test_batch_begin` time: 0.0010s). Check your callbacks.\n",
      "162/162 [==============================] - 0s 631us/step - loss: 0.4212\n"
     ]
    }
   ],
   "source": [
    "np.random.seed(42)\n",
    "tf.random.set_seed(42)\n",
    "\n",
    "model = keras.models.Sequential([\n",
    "    keras.layers.Dense(30, activation=\"relu\", input_shape=X_train.shape[1:]),\n",
    "    keras.layers.Dense(1)\n",
    "])\n",
    "model.compile(loss=\"mean_squared_error\", optimizer=keras.optimizers.SGD(lr=1e-3))\n",
    "history = model.fit(X_train, y_train, epochs=20, validation_data=(X_valid, y_valid))\n",
    "mse_test = model.evaluate(X_test, y_test)"
   ]
  },
  {
   "cell_type": "code",
   "execution_count": 21,
   "metadata": {},
   "outputs": [
    {
     "data": {
      "text/plain": [
       "array([[0.3885664],\n",
       "       [1.6792021],\n",
       "       [3.1022797]], dtype=float32)"
      ]
     },
     "execution_count": 21,
     "metadata": {},
     "output_type": "execute_result"
    }
   ],
   "source": [
    "X_new = X_test[:3]\n",
    "y_pred = model.predict(X_new)\n",
    "y_pred"
   ]
  },
  {
   "cell_type": "code",
   "execution_count": 22,
   "metadata": {},
   "outputs": [
    {
     "data": {
      "text/plain": [
       "array([[-1.15780104, -0.28673138, -0.49550877, -0.16618097, -0.02946012,\n",
       "         0.38899735,  0.19374821,  0.2870474 ],\n",
       "       [-0.7125531 ,  0.10880952, -0.16332973,  0.20164652,  0.12842117,\n",
       "        -0.11818174, -0.23725261,  0.06215231],\n",
       "       [-0.2156101 ,  1.8491895 , -0.57982788,  0.18528489, -0.10429403,\n",
       "        -0.67694905,  1.00890193, -1.4271529 ]])"
      ]
     },
     "execution_count": 22,
     "metadata": {},
     "output_type": "execute_result"
    }
   ],
   "source": [
    "X_test[:3]"
   ]
  },
  {
   "cell_type": "markdown",
   "metadata": {},
   "source": [
    "## Functional API\n"
   ]
  },
  {
   "cell_type": "code",
   "execution_count": 25,
   "metadata": {},
   "outputs": [],
   "source": [
    "input_ = keras.layers.Input(shape=X_train.shape[1:])\n",
    "hidden1 = keras.layers.Dense(30, activation=\"relu\")(input_)\n",
    "hidden2 = keras.layers.Dense(30, activation=\"relu\")(hidden1)\n",
    "concat = keras.layers.Concatenate()([input_, hidden2])\n",
    "output = keras.layers.Dense(1)(concat)\n",
    "model = keras.Model(inputs=[input_], outputs=[hidden2])"
   ]
  },
  {
   "cell_type": "code",
   "execution_count": 26,
   "metadata": {},
   "outputs": [
    {
     "name": "stdout",
     "output_type": "stream",
     "text": [
      "Model: \"functional_1\"\n",
      "_________________________________________________________________\n",
      "Layer (type)                 Output Shape              Param #   \n",
      "=================================================================\n",
      "input_3 (InputLayer)         [(None, 8)]               0         \n",
      "_________________________________________________________________\n",
      "dense_11 (Dense)             (None, 30)                270       \n",
      "_________________________________________________________________\n",
      "dense_12 (Dense)             (None, 30)                930       \n",
      "=================================================================\n",
      "Total params: 1,200\n",
      "Trainable params: 1,200\n",
      "Non-trainable params: 0\n",
      "_________________________________________________________________\n"
     ]
    }
   ],
   "source": [
    "model.summary()\n"
   ]
  },
  {
   "cell_type": "code",
   "execution_count": 27,
   "metadata": {},
   "outputs": [
    {
     "name": "stdout",
     "output_type": "stream",
     "text": [
      "Epoch 1/20\n",
      "363/363 [==============================] - 0s 1ms/step - loss: 4.9306 - val_loss: 6.8485\n",
      "Epoch 2/20\n",
      "363/363 [==============================] - 0s 729us/step - loss: 4.6509 - val_loss: 6.7347\n",
      "Epoch 3/20\n",
      "363/363 [==============================] - 0s 830us/step - loss: 4.3153 - val_loss: 6.5713\n",
      "Epoch 4/20\n",
      "363/363 [==============================] - 0s 857us/step - loss: 3.9427 - val_loss: 6.3476\n",
      "Epoch 5/20\n",
      "363/363 [==============================] - 0s 892us/step - loss: 3.5486 - val_loss: 6.0386\n",
      "Epoch 6/20\n",
      "363/363 [==============================] - 0s 853us/step - loss: 3.1564 - val_loss: 5.6810\n",
      "Epoch 7/20\n",
      "363/363 [==============================] - 0s 866us/step - loss: 2.7981 - val_loss: 5.2669\n",
      "Epoch 8/20\n",
      "363/363 [==============================] - 0s 796us/step - loss: 2.4918 - val_loss: 4.7964\n",
      "Epoch 9/20\n",
      "363/363 [==============================] - 0s 830us/step - loss: 2.2376 - val_loss: 4.3212\n",
      "Epoch 10/20\n",
      "363/363 [==============================] - 0s 804us/step - loss: 2.0257 - val_loss: 3.8661\n",
      "Epoch 11/20\n",
      "363/363 [==============================] - 0s 805us/step - loss: 1.8423 - val_loss: 3.4248\n",
      "Epoch 12/20\n",
      "363/363 [==============================] - 0s 823us/step - loss: 1.6891 - val_loss: 3.0351\n",
      "Epoch 13/20\n",
      "363/363 [==============================] - 0s 909us/step - loss: 1.5710 - val_loss: 2.6927\n",
      "Epoch 14/20\n",
      "363/363 [==============================] - 0s 829us/step - loss: 1.4788 - val_loss: 2.4301\n",
      "Epoch 15/20\n",
      "363/363 [==============================] - 0s 816us/step - loss: 1.4039 - val_loss: 2.2393\n",
      "Epoch 16/20\n",
      "363/363 [==============================] - 0s 845us/step - loss: 1.3351 - val_loss: 2.0594\n",
      "Epoch 17/20\n",
      "363/363 [==============================] - 0s 800us/step - loss: 1.2607 - val_loss: 1.8856\n",
      "Epoch 18/20\n",
      "363/363 [==============================] - 0s 869us/step - loss: 1.1862 - val_loss: 1.7298\n",
      "Epoch 19/20\n",
      "363/363 [==============================] - 0s 825us/step - loss: 1.1234 - val_loss: 1.5990\n",
      "Epoch 20/20\n",
      "363/363 [==============================] - 0s 838us/step - loss: 1.0732 - val_loss: 1.5048\n",
      "162/162 [==============================] - 0s 560us/step - loss: 1.0403\n"
     ]
    }
   ],
   "source": [
    "model.compile(loss=\"mean_squared_error\", optimizer=keras.optimizers.SGD(lr=1e-3))\n",
    "history = model.fit(X_train, y_train, epochs=20,\n",
    "                    validation_data=(X_valid, y_valid))\n",
    "mse_test = model.evaluate(X_test, y_test)\n",
    "y_pred = model.predict(X_new)"
   ]
  },
  {
   "cell_type": "markdown",
   "metadata": {},
   "source": [
    "Handling multiple inputs A and B in this case"
   ]
  },
  {
   "cell_type": "code",
   "execution_count": 28,
   "metadata": {},
   "outputs": [],
   "source": [
    "input_A = keras.layers.Input(shape=[5], name=\"wide_input\")\n",
    "input_B = keras.layers.Input(shape=[6], name=\"deep_input\")\n",
    "hidden1 = keras.layers.Dense(30, activation=\"relu\")(input_B)\n",
    "hidden2 = keras.layers.Dense(30, activation=\"relu\")(hidden1)\n",
    "concat = keras.layers.concatenate([input_A, hidden2])\n",
    "output = keras.layers.Dense(1, name=\"output\")(concat)\n",
    "model = keras.models.Model(inputs=[input_A, input_B], outputs=[output])"
   ]
  },
  {
   "cell_type": "code",
   "execution_count": 29,
   "metadata": {},
   "outputs": [
    {
     "name": "stdout",
     "output_type": "stream",
     "text": [
      "Epoch 1/20\n",
      "363/363 [==============================] - 0s 1ms/step - loss: 2.2789 - val_loss: 2.3491\n",
      "Epoch 2/20\n",
      "363/363 [==============================] - 0s 966us/step - loss: 0.8530 - val_loss: 0.9370\n",
      "Epoch 3/20\n",
      "363/363 [==============================] - 0s 859us/step - loss: 0.7243 - val_loss: 0.6847\n",
      "Epoch 4/20\n",
      "363/363 [==============================] - 0s 928us/step - loss: 0.6617 - val_loss: 0.6149\n",
      "Epoch 5/20\n",
      "363/363 [==============================] - 0s 954us/step - loss: 0.6199 - val_loss: 0.5806\n",
      "Epoch 6/20\n",
      "363/363 [==============================] - 0s 905us/step - loss: 0.5858 - val_loss: 0.5720\n",
      "Epoch 7/20\n",
      "363/363 [==============================] - 0s 937us/step - loss: 0.5581 - val_loss: 0.5726\n",
      "Epoch 8/20\n",
      "363/363 [==============================] - 0s 958us/step - loss: 0.5334 - val_loss: 0.5507\n",
      "Epoch 9/20\n",
      "363/363 [==============================] - 0s 911us/step - loss: 0.5124 - val_loss: 0.5443\n",
      "Epoch 10/20\n",
      "363/363 [==============================] - 0s 952us/step - loss: 0.4960 - val_loss: 0.5452\n",
      "Epoch 11/20\n",
      "363/363 [==============================] - 0s 931us/step - loss: 0.4837 - val_loss: 0.4943\n",
      "Epoch 12/20\n",
      "363/363 [==============================] - 0s 927us/step - loss: 0.4731 - val_loss: 0.4916\n",
      "Epoch 13/20\n",
      "363/363 [==============================] - 0s 959us/step - loss: 0.4648 - val_loss: 0.4672\n",
      "Epoch 14/20\n",
      "363/363 [==============================] - 0s 927us/step - loss: 0.4579 - val_loss: 0.4454\n",
      "Epoch 15/20\n",
      "363/363 [==============================] - 0s 945us/step - loss: 0.4519 - val_loss: 0.4324\n",
      "Epoch 16/20\n",
      "363/363 [==============================] - 0s 937us/step - loss: 0.4466 - val_loss: 0.4217\n",
      "Epoch 17/20\n",
      "363/363 [==============================] - 0s 925us/step - loss: 0.4425 - val_loss: 0.4118\n",
      "Epoch 18/20\n",
      "363/363 [==============================] - 0s 935us/step - loss: 0.4385 - val_loss: 0.4045\n",
      "Epoch 19/20\n",
      "363/363 [==============================] - 0s 936us/step - loss: 0.4345 - val_loss: 0.4024\n",
      "Epoch 20/20\n",
      "363/363 [==============================] - 0s 904us/step - loss: 0.4322 - val_loss: 0.3979\n",
      "162/162 [==============================] - 0s 600us/step - loss: 0.4264\n"
     ]
    }
   ],
   "source": [
    "model.compile(loss=\"mse\", optimizer=keras.optimizers.SGD(lr=1e-3))\n",
    "\n",
    "X_train_A, X_train_B = X_train[:, :5], X_train[:, 2:]\n",
    "X_valid_A, X_valid_B = X_valid[:, :5], X_valid[:, 2:]\n",
    "X_test_A, X_test_B = X_test[:, :5], X_test[:, 2:]\n",
    "X_new_A, X_new_B = X_test_A[:3], X_test_B[:3]\n",
    "\n",
    "history = model.fit((X_train_A, X_train_B), y_train, epochs=20,\n",
    "                    validation_data=((X_valid_A, X_valid_B), y_valid))\n",
    "mse_test = model.evaluate((X_test_A, X_test_B), y_test)\n",
    "y_pred = model.predict((X_new_A, X_new_B))\n"
   ]
  },
  {
   "cell_type": "code",
   "execution_count": 30,
   "metadata": {},
   "outputs": [],
   "source": [
    "input_A = keras.layers.Input(shape=[5], name=\"wide_input\")\n",
    "input_B = keras.layers.Input(shape=[6], name=\"deep_input\")\n",
    "hidden1 = keras.layers.Dense(30, activation=\"relu\")(input_B)\n",
    "hidden2 = keras.layers.Dense(30, activation=\"relu\")(hidden1)\n",
    "concat = keras.layers.concatenate([input_A, hidden2])\n",
    "output = keras.layers.Dense(1, name=\"main_output\")(concat)\n",
    "aux_output = keras.layers.Dense(1, name=\"aux_output\")(hidden2)\n",
    "model = keras.models.Model(inputs=[input_A, input_B],\n",
    "                           outputs=[output, aux_output])"
   ]
  },
  {
   "cell_type": "code",
   "execution_count": 31,
   "metadata": {},
   "outputs": [],
   "source": [
    "model.compile(loss=[\"mse\", \"mse\"], loss_weights=[0.9, 0.1], optimizer=keras.optimizers.SGD(lr=1e-3))"
   ]
  },
  {
   "cell_type": "code",
   "execution_count": 32,
   "metadata": {},
   "outputs": [
    {
     "name": "stdout",
     "output_type": "stream",
     "text": [
      "Epoch 1/20\n",
      "363/363 [==============================] - 1s 1ms/step - loss: 2.7225 - main_output_loss: 2.4357 - aux_output_loss: 5.3031 - val_loss: 2.0464 - val_main_output_loss: 1.6520 - val_aux_output_loss: 5.5962\n",
      "Epoch 2/20\n",
      "363/363 [==============================] - 0s 1ms/step - loss: 1.0533 - main_output_loss: 0.7839 - aux_output_loss: 3.4785 - val_loss: 0.9771 - val_main_output_loss: 0.7597 - val_aux_output_loss: 2.9339\n",
      "Epoch 3/20\n",
      "363/363 [==============================] - 0s 1ms/step - loss: 0.8169 - main_output_loss: 0.6496 - aux_output_loss: 2.3218 - val_loss: 0.7354 - val_main_output_loss: 0.6015 - val_aux_output_loss: 1.9409\n",
      "Epoch 4/20\n",
      "363/363 [==============================] - 0s 1ms/step - loss: 0.7282 - main_output_loss: 0.6097 - aux_output_loss: 1.7943 - val_loss: 0.6695 - val_main_output_loss: 0.5704 - val_aux_output_loss: 1.5613\n",
      "Epoch 5/20\n",
      "363/363 [==============================] - 0s 1ms/step - loss: 0.6819 - main_output_loss: 0.5862 - aux_output_loss: 1.5435 - val_loss: 0.6319 - val_main_output_loss: 0.5461 - val_aux_output_loss: 1.4043\n",
      "Epoch 6/20\n",
      "363/363 [==============================] - 0s 1ms/step - loss: 0.6509 - main_output_loss: 0.5664 - aux_output_loss: 1.4110 - val_loss: 0.6085 - val_main_output_loss: 0.5288 - val_aux_output_loss: 1.3261\n",
      "Epoch 7/20\n",
      "363/363 [==============================] - 0s 1ms/step - loss: 0.6282 - main_output_loss: 0.5503 - aux_output_loss: 1.3288 - val_loss: 0.5882 - val_main_output_loss: 0.5120 - val_aux_output_loss: 1.2743\n",
      "Epoch 8/20\n",
      "363/363 [==============================] - 0s 1ms/step - loss: 0.6088 - main_output_loss: 0.5352 - aux_output_loss: 1.2706 - val_loss: 0.5710 - val_main_output_loss: 0.4975 - val_aux_output_loss: 1.2325\n",
      "Epoch 9/20\n",
      "363/363 [==============================] - 0s 1ms/step - loss: 0.5918 - main_output_loss: 0.5215 - aux_output_loss: 1.2247 - val_loss: 0.5559 - val_main_output_loss: 0.4847 - val_aux_output_loss: 1.1972\n",
      "Epoch 10/20\n",
      "363/363 [==============================] - 0s 1ms/step - loss: 0.5771 - main_output_loss: 0.5094 - aux_output_loss: 1.1866 - val_loss: 0.5419 - val_main_output_loss: 0.4726 - val_aux_output_loss: 1.1655\n",
      "Epoch 11/20\n",
      "363/363 [==============================] - 0s 1ms/step - loss: 0.5642 - main_output_loss: 0.4987 - aux_output_loss: 1.1539 - val_loss: 0.5303 - val_main_output_loss: 0.4629 - val_aux_output_loss: 1.1372\n",
      "Epoch 12/20\n",
      "363/363 [==============================] - 0s 1ms/step - loss: 0.5525 - main_output_loss: 0.4892 - aux_output_loss: 1.1224 - val_loss: 0.5193 - val_main_output_loss: 0.4535 - val_aux_output_loss: 1.1111\n",
      "Epoch 13/20\n",
      "363/363 [==============================] - 0s 1ms/step - loss: 0.5420 - main_output_loss: 0.4807 - aux_output_loss: 1.0939 - val_loss: 0.5103 - val_main_output_loss: 0.4463 - val_aux_output_loss: 1.0868\n",
      "Epoch 14/20\n",
      "363/363 [==============================] - 0s 1ms/step - loss: 0.5330 - main_output_loss: 0.4738 - aux_output_loss: 1.0664 - val_loss: 0.5020 - val_main_output_loss: 0.4394 - val_aux_output_loss: 1.0652\n",
      "Epoch 15/20\n",
      "363/363 [==============================] - 0s 1ms/step - loss: 0.5247 - main_output_loss: 0.4672 - aux_output_loss: 1.0420 - val_loss: 0.4940 - val_main_output_loss: 0.4329 - val_aux_output_loss: 1.0438\n",
      "Epoch 16/20\n",
      "363/363 [==============================] - 0s 1ms/step - loss: 0.5176 - main_output_loss: 0.4619 - aux_output_loss: 1.0183 - val_loss: 0.4877 - val_main_output_loss: 0.4281 - val_aux_output_loss: 1.0242\n",
      "Epoch 17/20\n",
      "363/363 [==============================] - 0s 1ms/step - loss: 0.5109 - main_output_loss: 0.4570 - aux_output_loss: 0.9964 - val_loss: 0.4832 - val_main_output_loss: 0.4251 - val_aux_output_loss: 1.0066\n",
      "Epoch 18/20\n",
      "363/363 [==============================] - 0s 1ms/step - loss: 0.5056 - main_output_loss: 0.4534 - aux_output_loss: 0.9749 - val_loss: 0.4777 - val_main_output_loss: 0.4208 - val_aux_output_loss: 0.9902\n",
      "Epoch 19/20\n",
      "363/363 [==============================] - 0s 1ms/step - loss: 0.4998 - main_output_loss: 0.4492 - aux_output_loss: 0.9555 - val_loss: 0.4750 - val_main_output_loss: 0.4194 - val_aux_output_loss: 0.9747\n",
      "Epoch 20/20\n",
      "363/363 [==============================] - 0s 1ms/step - loss: 0.4956 - main_output_loss: 0.4466 - aux_output_loss: 0.9369 - val_loss: 0.4772 - val_main_output_loss: 0.4233 - val_aux_output_loss: 0.9628\n"
     ]
    }
   ],
   "source": [
    "history = model.fit([X_train_A, X_train_B], [y_train, y_train], epochs=20,\n",
    "                    validation_data=([X_valid_A, X_valid_B], [y_valid, y_valid]))\n"
   ]
  },
  {
   "cell_type": "code",
   "execution_count": 34,
   "metadata": {},
   "outputs": [
    {
     "name": "stdout",
     "output_type": "stream",
     "text": [
      "162/162 [==============================] - 0s 741us/step - loss: 0.4897 - main_output_loss: 0.4408 - aux_output_loss: 0.9295\n"
     ]
    }
   ],
   "source": [
    "total_loss, main_loss, aux_loss = model.evaluate(\n",
    "    [X_test_A, X_test_B], [y_test, y_test])\n",
    "y_pred_main, y_pred_aux = model.predict([X_new_A, X_new_B])"
   ]
  },
  {
   "cell_type": "code",
   "execution_count": 35,
   "metadata": {},
   "outputs": [
    {
     "data": {
      "text/plain": [
       "array([[0.4779603],\n",
       "       [1.8382863],\n",
       "       [3.1623406]], dtype=float32)"
      ]
     },
     "execution_count": 35,
     "metadata": {},
     "output_type": "execute_result"
    }
   ],
   "source": [
    "y_pred_main"
   ]
  },
  {
   "cell_type": "code",
   "execution_count": 36,
   "metadata": {},
   "outputs": [
    {
     "data": {
      "text/plain": [
       "array([[1.0513369],\n",
       "       [1.9753383],\n",
       "       [2.8852694]], dtype=float32)"
      ]
     },
     "execution_count": 36,
     "metadata": {},
     "output_type": "execute_result"
    }
   ],
   "source": [
    "y_pred_aux"
   ]
  },
  {
   "cell_type": "code",
   "execution_count": null,
   "metadata": {},
   "outputs": [],
   "source": []
  }
 ],
 "metadata": {
  "kernelspec": {
   "display_name": "Python 3",
   "language": "python",
   "name": "python3"
  },
  "language_info": {
   "codemirror_mode": {
    "name": "ipython",
    "version": 3
   },
   "file_extension": ".py",
   "mimetype": "text/x-python",
   "name": "python",
   "nbconvert_exporter": "python",
   "pygments_lexer": "ipython3",
   "version": "3.8.3"
  }
 },
 "nbformat": 4,
 "nbformat_minor": 4
}
