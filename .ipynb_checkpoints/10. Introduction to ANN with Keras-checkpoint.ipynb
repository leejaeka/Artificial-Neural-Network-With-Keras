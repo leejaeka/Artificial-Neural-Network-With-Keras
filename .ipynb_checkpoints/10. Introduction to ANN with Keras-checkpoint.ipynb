{
 "cells": [
  {
   "cell_type": "code",
   "execution_count": 7,
   "metadata": {},
   "outputs": [
    {
     "data": {
      "text/plain": [
       "'2.4.0'"
      ]
     },
     "execution_count": 7,
     "metadata": {},
     "output_type": "execute_result"
    }
   ],
   "source": [
    "import tensorflow as tf\n",
    "from tensorflow import keras"
   ]
  },
  {
   "cell_type": "code",
   "execution_count": 8,
   "metadata": {},
   "outputs": [
    {
     "name": "stdout",
     "output_type": "stream",
     "text": [
      "Downloading data from https://storage.googleapis.com/tensorflow/tf-keras-datasets/train-labels-idx1-ubyte.gz\n",
      "32768/29515 [=================================] - 0s 1us/step\n",
      "Downloading data from https://storage.googleapis.com/tensorflow/tf-keras-datasets/train-images-idx3-ubyte.gz\n",
      "26427392/26421880 [==============================] - 15s 1us/step\n",
      "Downloading data from https://storage.googleapis.com/tensorflow/tf-keras-datasets/t10k-labels-idx1-ubyte.gz\n",
      "8192/5148 [===============================================] - 0s 0us/step\n",
      "Downloading data from https://storage.googleapis.com/tensorflow/tf-keras-datasets/t10k-images-idx3-ubyte.gz\n",
      "4423680/4422102 [==============================] - 5s 1us/step\n"
     ]
    }
   ],
   "source": [
    "fashion_mnist = keras.datasets.fashion_mnist\n",
    "(X_train_full, y_train_full), (X_test, y_test) = fashion_mnist.load_data()\n"
   ]
  },
  {
   "cell_type": "code",
   "execution_count": 9,
   "metadata": {},
   "outputs": [
    {
     "data": {
      "text/plain": [
       "(60000, 28, 28)"
      ]
     },
     "execution_count": 9,
     "metadata": {},
     "output_type": "execute_result"
    }
   ],
   "source": [
    "X_train_full.shape\n"
   ]
  },
  {
   "cell_type": "code",
   "execution_count": 10,
   "metadata": {},
   "outputs": [
    {
     "data": {
      "text/plain": [
       "dtype('uint8')"
      ]
     },
     "execution_count": 10,
     "metadata": {},
     "output_type": "execute_result"
    }
   ],
   "source": [
    "X_train_full.dtype"
   ]
  },
  {
   "cell_type": "code",
   "execution_count": 14,
   "metadata": {},
   "outputs": [
    {
     "data": {
      "text/plain": [
       "array([[[0, 0, 0, ..., 0, 0, 0],\n",
       "        [0, 0, 0, ..., 0, 0, 0],\n",
       "        [0, 0, 0, ..., 0, 0, 0],\n",
       "        ...,\n",
       "        [0, 0, 0, ..., 0, 0, 0],\n",
       "        [0, 0, 0, ..., 0, 0, 0],\n",
       "        [0, 0, 0, ..., 0, 0, 0]],\n",
       "\n",
       "       [[0, 0, 0, ..., 0, 0, 0],\n",
       "        [0, 0, 0, ..., 0, 0, 0],\n",
       "        [0, 0, 0, ..., 0, 0, 0],\n",
       "        ...,\n",
       "        [0, 0, 0, ..., 0, 0, 0],\n",
       "        [0, 0, 0, ..., 0, 0, 0],\n",
       "        [0, 0, 0, ..., 0, 0, 0]],\n",
       "\n",
       "       [[0, 0, 0, ..., 0, 0, 0],\n",
       "        [0, 0, 0, ..., 0, 0, 0],\n",
       "        [0, 0, 0, ..., 0, 0, 0],\n",
       "        ...,\n",
       "        [0, 0, 0, ..., 0, 0, 0],\n",
       "        [0, 0, 0, ..., 0, 0, 0],\n",
       "        [0, 0, 0, ..., 0, 0, 0]]], dtype=uint8)"
      ]
     },
     "execution_count": 14,
     "metadata": {},
     "output_type": "execute_result"
    }
   ],
   "source": [
    "X_train_full[:3]"
   ]
  },
  {
   "cell_type": "code",
   "execution_count": 15,
   "metadata": {},
   "outputs": [
    {
     "data": {
      "text/plain": [
       "array([4, 0, 7, 9, 9], dtype=uint8)"
      ]
     },
     "execution_count": 15,
     "metadata": {},
     "output_type": "execute_result"
    }
   ],
   "source": [
    "X_valid, X_train = X_train_full[:5000]/255.0, X_train_full[5000:]/250.0\n",
    "y_valid, y_train = y_train_full[:5000], y_train_full[5000:]\n",
    "X_test = X_test/255.0\n",
    "\n",
    "y_train[:5]"
   ]
  },
  {
   "cell_type": "code",
   "execution_count": 17,
   "metadata": {},
   "outputs": [],
   "source": [
    "class_names = [\"T-shirt/top\", \"Trouser\", \"Pullover\", \"Dress\", \"Coat\", \"Sandal\", \"Shirt\", \"Sneaker\", \"Bag\", \"Ankle boot\"]"
   ]
  },
  {
   "cell_type": "markdown",
   "metadata": {},
   "source": [
    "Build a neural network"
   ]
  },
  {
   "cell_type": "code",
   "execution_count": 19,
   "metadata": {},
   "outputs": [
    {
     "name": "stdout",
     "output_type": "stream",
     "text": [
      "Model: \"sequential\"\n",
      "_________________________________________________________________\n",
      "Layer (type)                 Output Shape              Param #   \n",
      "=================================================================\n",
      "flatten (Flatten)            (None, 784)               0         \n",
      "_________________________________________________________________\n",
      "dense (Dense)                (None, 300)               235500    \n",
      "_________________________________________________________________\n",
      "dense_1 (Dense)              (None, 100)               30100     \n",
      "_________________________________________________________________\n",
      "dense_2 (Dense)              (None, 10)                1010      \n",
      "=================================================================\n",
      "Total params: 266,610\n",
      "Trainable params: 266,610\n",
      "Non-trainable params: 0\n",
      "_________________________________________________________________\n"
     ]
    }
   ],
   "source": [
    "model = keras.models.Sequential()\n",
    "model.add(keras.layers.Flatten(input_shape=[28,28]))\n",
    "model.add(keras.layers.Dense(300, activation=\"relu\"))\n",
    "model.add(keras.layers.Dense(100, activation=\"relu\"))\n",
    "model.add(keras.layers.Dense(10, activation=\"softmax\"))\n",
    "model.summary()\n",
    "\n"
   ]
  },
  {
   "cell_type": "code",
   "execution_count": 21,
   "metadata": {},
   "outputs": [
    {
     "data": {
      "text/plain": [
       "array([[ 0.00996071,  0.06054951,  0.02135208, ...,  0.02008756,\n",
       "        -0.03272373,  0.06730931],\n",
       "       [-0.00520414, -0.01996642, -0.01893223, ..., -0.068275  ,\n",
       "         0.06497546,  0.03567476],\n",
       "       [-0.05842221,  0.0536496 , -0.01479867, ..., -0.05500537,\n",
       "        -0.0540803 , -0.00134336],\n",
       "       ...,\n",
       "       [ 0.02537453, -0.05438293,  0.07175665, ...,  0.0470605 ,\n",
       "         0.02865227,  0.00702286],\n",
       "       [ 0.00834419,  0.04774516,  0.05629171, ..., -0.05113724,\n",
       "        -0.04064343,  0.03635769],\n",
       "       [-0.02752968,  0.0196605 ,  0.06991732, ..., -0.06488305,\n",
       "        -0.04272357,  0.00227413]], dtype=float32)"
      ]
     },
     "execution_count": 21,
     "metadata": {},
     "output_type": "execute_result"
    }
   ],
   "source": [
    "weights, biases = model.layers[1].get_weights()\n",
    "weights"
   ]
  },
  {
   "cell_type": "code",
   "execution_count": 22,
   "metadata": {},
   "outputs": [],
   "source": [
    "model.compile(loss=\"sparse_categorical_crossentropy\", optimizer=\"sgd\", metrics=[\"accuracy\"])"
   ]
  },
  {
   "cell_type": "code",
   "execution_count": 23,
   "metadata": {},
   "outputs": [
    {
     "name": "stdout",
     "output_type": "stream",
     "text": [
      "Epoch 1/30\n",
      "1719/1719 [==============================] - 3s 2ms/step - loss: 0.7240 - accuracy: 0.7583 - val_loss: 0.5413 - val_accuracy: 0.8180\n",
      "Epoch 2/30\n",
      "1719/1719 [==============================] - 3s 2ms/step - loss: 0.4883 - accuracy: 0.8296 - val_loss: 0.4539 - val_accuracy: 0.8432\n",
      "Epoch 3/30\n",
      "1719/1719 [==============================] - 2s 1ms/step - loss: 0.4396 - accuracy: 0.8465 - val_loss: 0.4078 - val_accuracy: 0.8642\n",
      "Epoch 4/30\n",
      "1719/1719 [==============================] - 2s 1ms/step - loss: 0.4144 - accuracy: 0.8558 - val_loss: 0.4019 - val_accuracy: 0.8644\n",
      "Epoch 5/30\n",
      "1719/1719 [==============================] - 2s 1ms/step - loss: 0.3933 - accuracy: 0.8622 - val_loss: 0.3837 - val_accuracy: 0.8676\n",
      "Epoch 6/30\n",
      "1719/1719 [==============================] - 2s 1ms/step - loss: 0.3786 - accuracy: 0.8669 - val_loss: 0.3861 - val_accuracy: 0.8642\n",
      "Epoch 7/30\n",
      "1719/1719 [==============================] - 2s 1ms/step - loss: 0.3651 - accuracy: 0.8712 - val_loss: 0.3949 - val_accuracy: 0.8576\n",
      "Epoch 8/30\n",
      "1719/1719 [==============================] - 2s 1ms/step - loss: 0.3536 - accuracy: 0.8748 - val_loss: 0.3531 - val_accuracy: 0.8788\n",
      "Epoch 9/30\n",
      "1719/1719 [==============================] - 2s 1ms/step - loss: 0.3431 - accuracy: 0.8784 - val_loss: 0.3471 - val_accuracy: 0.8754\n",
      "Epoch 10/30\n",
      "1719/1719 [==============================] - 2s 1ms/step - loss: 0.3348 - accuracy: 0.8811 - val_loss: 0.3467 - val_accuracy: 0.8774\n",
      "Epoch 11/30\n",
      "1719/1719 [==============================] - 2s 1ms/step - loss: 0.3254 - accuracy: 0.8841 - val_loss: 0.3414 - val_accuracy: 0.8786\n",
      "Epoch 12/30\n",
      "1719/1719 [==============================] - 2s 1ms/step - loss: 0.3180 - accuracy: 0.8863 - val_loss: 0.3277 - val_accuracy: 0.8852\n",
      "Epoch 13/30\n",
      "1719/1719 [==============================] - 2s 1ms/step - loss: 0.3109 - accuracy: 0.8886 - val_loss: 0.3403 - val_accuracy: 0.8746\n",
      "Epoch 14/30\n",
      "1719/1719 [==============================] - 2s 1ms/step - loss: 0.3036 - accuracy: 0.8910 - val_loss: 0.3245 - val_accuracy: 0.8806\n",
      "Epoch 15/30\n",
      "1719/1719 [==============================] - 3s 2ms/step - loss: 0.2971 - accuracy: 0.8936 - val_loss: 0.3173 - val_accuracy: 0.8882\n",
      "Epoch 16/30\n",
      "1719/1719 [==============================] - 2s 1ms/step - loss: 0.2908 - accuracy: 0.8951 - val_loss: 0.3262 - val_accuracy: 0.8804\n",
      "Epoch 17/30\n",
      "1719/1719 [==============================] - 2s 1ms/step - loss: 0.2853 - accuracy: 0.8972 - val_loss: 0.3237 - val_accuracy: 0.8872\n",
      "Epoch 18/30\n",
      "1719/1719 [==============================] - 2s 1ms/step - loss: 0.2787 - accuracy: 0.8999 - val_loss: 0.3280 - val_accuracy: 0.8806\n",
      "Epoch 19/30\n",
      "1719/1719 [==============================] - 2s 1ms/step - loss: 0.2737 - accuracy: 0.9009 - val_loss: 0.3093 - val_accuracy: 0.8888\n",
      "Epoch 20/30\n",
      "1719/1719 [==============================] - 2s 1ms/step - loss: 0.2699 - accuracy: 0.9030 - val_loss: 0.3154 - val_accuracy: 0.8850\n",
      "Epoch 21/30\n",
      "1719/1719 [==============================] - 2s 1ms/step - loss: 0.2634 - accuracy: 0.9052 - val_loss: 0.3137 - val_accuracy: 0.8856\n",
      "Epoch 22/30\n",
      "1719/1719 [==============================] - 2s 1ms/step - loss: 0.2590 - accuracy: 0.9066 - val_loss: 0.3113 - val_accuracy: 0.8880\n",
      "Epoch 23/30\n",
      "1719/1719 [==============================] - 2s 1ms/step - loss: 0.2552 - accuracy: 0.9077 - val_loss: 0.3154 - val_accuracy: 0.8832\n",
      "Epoch 24/30\n",
      "1719/1719 [==============================] - 2s 1ms/step - loss: 0.2505 - accuracy: 0.9092 - val_loss: 0.2992 - val_accuracy: 0.8934\n",
      "Epoch 25/30\n",
      "1719/1719 [==============================] - 2s 1ms/step - loss: 0.2452 - accuracy: 0.9118 - val_loss: 0.2998 - val_accuracy: 0.8904\n",
      "Epoch 26/30\n",
      "1719/1719 [==============================] - 2s 1ms/step - loss: 0.2417 - accuracy: 0.9131 - val_loss: 0.3018 - val_accuracy: 0.8922\n",
      "Epoch 27/30\n",
      "1719/1719 [==============================] - 2s 1ms/step - loss: 0.2372 - accuracy: 0.9141 - val_loss: 0.3053 - val_accuracy: 0.8922\n",
      "Epoch 28/30\n",
      "1719/1719 [==============================] - 2s 1ms/step - loss: 0.2328 - accuracy: 0.9159 - val_loss: 0.3013 - val_accuracy: 0.8916\n",
      "Epoch 29/30\n",
      "1719/1719 [==============================] - 2s 1ms/step - loss: 0.2295 - accuracy: 0.9172 - val_loss: 0.3134 - val_accuracy: 0.8828\n",
      "Epoch 30/30\n",
      "1719/1719 [==============================] - 2s 1ms/step - loss: 0.2259 - accuracy: 0.9192 - val_loss: 0.3039 - val_accuracy: 0.8868\n"
     ]
    }
   ],
   "source": [
    "history = model.fit(X_train,y_train,epochs=30, validation_data=(X_valid,y_valid))"
   ]
  },
  {
   "cell_type": "code",
   "execution_count": 24,
   "metadata": {},
   "outputs": [
    {
     "data": {
      "text/plain": [
       "<function matplotlib.pyplot.show(*args, **kw)>"
      ]
     },
     "execution_count": 24,
     "metadata": {},
     "output_type": "execute_result"
    },
    {
     "data": {
      "image/png": "[encoded data removed]",
      "text/plain": [
       "<Figure size 576x360 with 1 Axes>"
      ]
     },
     "metadata": {
      "needs_background": "light"
     },
     "output_type": "display_data"
    }
   ],
   "source": [
    "import pandas as pd\n",
    "import matplotlib.pyplot as plt\n",
    "\n",
    "pd.DataFrame(history.history).plot(figsize=(8,5))\n",
    "plt.grid(True)\n",
    "plt.gca().set_ylim(0,1)\n",
    "plt.show"
   ]
  },
  {
   "cell_type": "code",
   "execution_count": 26,
   "metadata": {},
   "outputs": [
    {
     "name": "stdout",
     "output_type": "stream",
     "text": [
      "Epoch 1/40\n",
      "1719/1719 [==============================] - 3s 2ms/step - loss: 0.2218 - accuracy: 0.9204 - val_loss: 0.2987 - val_accuracy: 0.8938\n",
      "Epoch 2/40\n",
      "1719/1719 [==============================] - 2s 1ms/step - loss: 0.2181 - accuracy: 0.9217 - val_loss: 0.2907 - val_accuracy: 0.8964\n",
      "Epoch 3/40\n",
      "1719/1719 [==============================] - 2s 1ms/step - loss: 0.2151 - accuracy: 0.9210 - val_loss: 0.3051 - val_accuracy: 0.8882\n",
      "Epoch 4/40\n",
      "1719/1719 [==============================] - 2s 1ms/step - loss: 0.2118 - accuracy: 0.9238 - val_loss: 0.3122 - val_accuracy: 0.8904\n",
      "Epoch 5/40\n",
      "1719/1719 [==============================] - 3s 2ms/step - loss: 0.2085 - accuracy: 0.9245 - val_loss: 0.2906 - val_accuracy: 0.8944\n",
      "Epoch 6/40\n",
      "1719/1719 [==============================] - 3s 1ms/step - loss: 0.2038 - accuracy: 0.9263 - val_loss: 0.2971 - val_accuracy: 0.8968\n",
      "Epoch 7/40\n",
      "1719/1719 [==============================] - 3s 1ms/step - loss: 0.2016 - accuracy: 0.9281 - val_loss: 0.3212 - val_accuracy: 0.8848\n",
      "Epoch 8/40\n",
      "1719/1719 [==============================] - 2s 1ms/step - loss: 0.1977 - accuracy: 0.9281 - val_loss: 0.3091 - val_accuracy: 0.8912\n",
      "Epoch 9/40\n",
      "1719/1719 [==============================] - 2s 1ms/step - loss: 0.1946 - accuracy: 0.9305 - val_loss: 0.2935 - val_accuracy: 0.8972\n",
      "Epoch 10/40\n",
      "1719/1719 [==============================] - 3s 1ms/step - loss: 0.1920 - accuracy: 0.9307 - val_loss: 0.2847 - val_accuracy: 0.8988\n",
      "Epoch 11/40\n",
      "1719/1719 [==============================] - 3s 2ms/step - loss: 0.1888 - accuracy: 0.9317 - val_loss: 0.2891 - val_accuracy: 0.8980\n",
      "Epoch 12/40\n",
      "1719/1719 [==============================] - 3s 2ms/step - loss: 0.1859 - accuracy: 0.9331 - val_loss: 0.2822 - val_accuracy: 0.8986\n",
      "Epoch 13/40\n",
      "1719/1719 [==============================] - 3s 2ms/step - loss: 0.1831 - accuracy: 0.9351 - val_loss: 0.2897 - val_accuracy: 0.8938\n",
      "Epoch 14/40\n",
      "1719/1719 [==============================] - 3s 1ms/step - loss: 0.1804 - accuracy: 0.9351 - val_loss: 0.2907 - val_accuracy: 0.8978\n",
      "Epoch 15/40\n",
      "1719/1719 [==============================] - 3s 2ms/step - loss: 0.1765 - accuracy: 0.9367 - val_loss: 0.3018 - val_accuracy: 0.8914\n",
      "Epoch 16/40\n",
      "1719/1719 [==============================] - 3s 1ms/step - loss: 0.1742 - accuracy: 0.9377 - val_loss: 0.2820 - val_accuracy: 0.8982\n",
      "Epoch 17/40\n",
      "1719/1719 [==============================] - 3s 1ms/step - loss: 0.1712 - accuracy: 0.9385 - val_loss: 0.3106 - val_accuracy: 0.8970\n",
      "Epoch 18/40\n",
      "1719/1719 [==============================] - 3s 2ms/step - loss: 0.1679 - accuracy: 0.9396 - val_loss: 0.2887 - val_accuracy: 0.8968\n",
      "Epoch 19/40\n",
      "1719/1719 [==============================] - 3s 2ms/step - loss: 0.1653 - accuracy: 0.9412 - val_loss: 0.2924 - val_accuracy: 0.8940\n",
      "Epoch 20/40\n",
      "1719/1719 [==============================] - 3s 2ms/step - loss: 0.1618 - accuracy: 0.9432 - val_loss: 0.3062 - val_accuracy: 0.8932\n",
      "Epoch 21/40\n",
      "1719/1719 [==============================] - 2s 1ms/step - loss: 0.1595 - accuracy: 0.9437 - val_loss: 0.3008 - val_accuracy: 0.8978\n",
      "Epoch 22/40\n",
      "1719/1719 [==============================] - 3s 1ms/step - loss: 0.1584 - accuracy: 0.9444 - val_loss: 0.3142 - val_accuracy: 0.8918\n",
      "Epoch 23/40\n",
      "1719/1719 [==============================] - 2s 1ms/step - loss: 0.1543 - accuracy: 0.9452 - val_loss: 0.3336 - val_accuracy: 0.8902\n",
      "Epoch 24/40\n",
      "1719/1719 [==============================] - 3s 1ms/step - loss: 0.1520 - accuracy: 0.9459 - val_loss: 0.3147 - val_accuracy: 0.8930\n",
      "Epoch 25/40\n",
      "1719/1719 [==============================] - 3s 1ms/step - loss: 0.1490 - accuracy: 0.9476 - val_loss: 0.3192 - val_accuracy: 0.8942\n",
      "Epoch 26/40\n",
      "1719/1719 [==============================] - 2s 1ms/step - loss: 0.1485 - accuracy: 0.9477 - val_loss: 0.3102 - val_accuracy: 0.8958\n",
      "Epoch 27/40\n",
      "1719/1719 [==============================] - 2s 1ms/step - loss: 0.1444 - accuracy: 0.9480 - val_loss: 0.3111 - val_accuracy: 0.8940\n",
      "Epoch 28/40\n",
      "1719/1719 [==============================] - 2s 1ms/step - loss: 0.1428 - accuracy: 0.9482 - val_loss: 0.2994 - val_accuracy: 0.8984\n",
      "Epoch 29/40\n",
      "1719/1719 [==============================] - 2s 1ms/step - loss: 0.1411 - accuracy: 0.9503 - val_loss: 0.3159 - val_accuracy: 0.8906\n",
      "Epoch 30/40\n",
      "1719/1719 [==============================] - 2s 1ms/step - loss: 0.1372 - accuracy: 0.9506 - val_loss: 0.3114 - val_accuracy: 0.8966\n",
      "Epoch 31/40\n",
      "1719/1719 [==============================] - 2s 1ms/step - loss: 0.1358 - accuracy: 0.9506 - val_loss: 0.3134 - val_accuracy: 0.8960\n",
      "Epoch 32/40\n",
      "1719/1719 [==============================] - 2s 1ms/step - loss: 0.1338 - accuracy: 0.9529 - val_loss: 0.2987 - val_accuracy: 0.8990\n",
      "Epoch 33/40\n",
      "1719/1719 [==============================] - 2s 1ms/step - loss: 0.1319 - accuracy: 0.9534 - val_loss: 0.3114 - val_accuracy: 0.8978\n",
      "Epoch 34/40\n",
      "1719/1719 [==============================] - 2s 1ms/step - loss: 0.1294 - accuracy: 0.9555 - val_loss: 0.3236 - val_accuracy: 0.8918\n",
      "Epoch 35/40\n",
      "1719/1719 [==============================] - 2s 1ms/step - loss: 0.1276 - accuracy: 0.9545 - val_loss: 0.3013 - val_accuracy: 0.9008\n",
      "Epoch 36/40\n",
      "1719/1719 [==============================] - 2s 1ms/step - loss: 0.1250 - accuracy: 0.9563 - val_loss: 0.3081 - val_accuracy: 0.9004\n",
      "Epoch 37/40\n",
      "1719/1719 [==============================] - 3s 1ms/step - loss: 0.1231 - accuracy: 0.9571 - val_loss: 0.3047 - val_accuracy: 0.8992\n",
      "Epoch 38/40\n",
      "1719/1719 [==============================] - 2s 1ms/step - loss: 0.1210 - accuracy: 0.9576 - val_loss: 0.3042 - val_accuracy: 0.8996\n",
      "Epoch 39/40\n",
      "1719/1719 [==============================] - 2s 1ms/step - loss: 0.1179 - accuracy: 0.9593 - val_loss: 0.3087 - val_accuracy: 0.8988\n",
      "Epoch 40/40\n",
      "1719/1719 [==============================] - 3s 1ms/step - loss: 0.1169 - accuracy: 0.9584 - val_loss: 0.3109 - val_accuracy: 0.8992\n"
     ]
    }
   ],
   "source": [
    "history = model.fit(X_train,y_train,epochs=40, validation_data=(X_valid,y_valid))"
   ]
  },
  {
   "cell_type": "code",
   "execution_count": 27,
   "metadata": {},
   "outputs": [
    {
     "name": "stdout",
     "output_type": "stream",
     "text": [
      "313/313 [==============================] - 0s 1ms/step - loss: 0.3537 - accuracy: 0.8909\n"
     ]
    },
    {
     "data": {
      "text/plain": [
       "[0.3536958396434784, 0.8909000158309937]"
      ]
     },
     "execution_count": 27,
     "metadata": {},
     "output_type": "execute_result"
    }
   ],
   "source": [
    "model.evaluate(X_test,y_test)"
   ]
  },
  {
   "cell_type": "code",
   "execution_count": 28,
   "metadata": {},
   "outputs": [
    {
     "data": {
      "text/plain": [
       "array([[0., 0., 0., 0., 0., 0., 0., 0., 0., 1.],\n",
       "       [0., 0., 1., 0., 0., 0., 0., 0., 0., 0.],\n",
       "       [0., 1., 0., 0., 0., 0., 0., 0., 0., 0.]], dtype=float32)"
      ]
     },
     "execution_count": 28,
     "metadata": {},
     "output_type": "execute_result"
    }
   ],
   "source": [
    "X_new = X_test[:3]\n",
    "y_proba = model.predict(X_new)\n",
    "y_proba.round(2)"
   ]
  },
  {
   "cell_type": "code",
   "execution_count": null,
   "metadata": {},
   "outputs": [],
   "source": []
  }
 ],
 "metadata": {
  "kernelspec": {
   "display_name": "Python 3",
   "language": "python",
   "name": "python3"
  },
  "language_info": {
   "codemirror_mode": {
    "name": "ipython",
    "version": 3
   },
   "file_extension": ".py",
   "mimetype": "text/x-python",
   "name": "python",
   "nbconvert_exporter": "python",
   "pygments_lexer": "ipython3",
   "version": "3.8.3"
  }
 },
 "nbformat": 4,
 "nbformat_minor": 4
}
